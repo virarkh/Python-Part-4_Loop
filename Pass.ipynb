{
 "cells": [
  {
   "cell_type": "markdown",
   "id": "42f29048",
   "metadata": {},
   "source": [
    "# Pass\n",
    "- The pass statement in Python is used when a statement is required syntactically but you do not want any command or code to execute.\n",
    "\n",
    "- The pass statement is a null operation; nothing happens when it executes. The pass is also useful in places where your code will eventually go, but has not been written yet.\n",
    "\n",
    "Example:"
   ]
  },
  {
   "cell_type": "code",
   "execution_count": 1,
   "id": "77dd76a3",
   "metadata": {},
   "outputs": [
    {
     "name": "stdout",
     "output_type": "stream",
     "text": [
      "Current Letter : P\n",
      "Current Letter : y\n",
      "Current Letter : t\n",
      "This is pass block\n",
      "Current Letter : h\n",
      "Current Letter : o\n",
      "Current Letter : n\n",
      "Good bye!\n"
     ]
    }
   ],
   "source": [
    "for letter in 'Python': \n",
    "    if letter == 'h':\n",
    "        pass\n",
    "        print('This is pass block')\n",
    "    print('Current Letter :', letter)\n",
    "\n",
    "print(\"Good bye!\")"
   ]
  },
  {
   "cell_type": "code",
   "execution_count": 3,
   "id": "c4c2b1fe",
   "metadata": {},
   "outputs": [
    {
     "name": "stdout",
     "output_type": "stream",
     "text": [
      "input: 1\n",
      "output: 1\n",
      "input: 2\n",
      "output: 2\n",
      "input: 3\n",
      "output: 3\n",
      "input: 4\n",
      "output: 4\n",
      "input: 5\n",
      "output: 5\n",
      "input: python\n",
      "error <class 'ValueError'>\n",
      "input: z\n"
     ]
    }
   ],
   "source": [
    "import sys\n",
    "\n",
    "n = ''\n",
    "\n",
    "while (n != 'z'):\n",
    "    try:\n",
    "        n = (input(\"input: \"))\n",
    "        print('output: {}'.format(int(n)))\n",
    "    except:\n",
    "        if n == 'z' :\n",
    "            pass\n",
    "        else: \n",
    "            print('error {}'.format(sys.exc_info()[0]))"
   ]
  },
  {
   "cell_type": "code",
   "execution_count": 4,
   "id": "6786ba95",
   "metadata": {},
   "outputs": [
    {
     "name": "stdout",
     "output_type": "stream",
     "text": [
      "input: 1\n",
      "wrong input\n",
      "input: 2\n",
      "wrong input\n",
      "input: 3\n",
      "wrong input\n",
      "input: 4\n",
      "wrong input\n",
      "input: data science\n",
      "right output: data science\n",
      "input: python\n",
      "right output: python\n",
      "input: z\n",
      "wrong input\n"
     ]
    }
   ],
   "source": [
    "n = ''\n",
    "\n",
    "while (n != 'z'):\n",
    "    try:\n",
    "        n = (input(\"input: \"))\n",
    "        if type(n) == str and len(n) > 2:\n",
    "            print('right output: {}'.format(str(n)))\n",
    "        else:\n",
    "            print('wrong input')\n",
    "    except:\n",
    "        if n == 'z' :\n",
    "            pass\n",
    "        else: \n",
    "            print('error {}'.format(sys.exc_info()[0]))"
   ]
  },
  {
   "cell_type": "code",
   "execution_count": null,
   "id": "8685afd1",
   "metadata": {},
   "outputs": [],
   "source": []
  }
 ],
 "metadata": {
  "kernelspec": {
   "display_name": "Python 3",
   "language": "python",
   "name": "python3"
  },
  "language_info": {
   "codemirror_mode": {
    "name": "ipython",
    "version": 3
   },
   "file_extension": ".py",
   "mimetype": "text/x-python",
   "name": "python",
   "nbconvert_exporter": "python",
   "pygments_lexer": "ipython3",
   "version": "3.6.13"
  }
 },
 "nbformat": 4,
 "nbformat_minor": 5
}
