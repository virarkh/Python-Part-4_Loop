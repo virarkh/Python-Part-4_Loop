{
 "cells": [
  {
   "cell_type": "markdown",
   "id": "4ff52b60",
   "metadata": {},
   "source": [
    "# While\n",
    "- The while loop in Python is used to iterate over a block of code as long as the test expression (condition) is true.\n",
    "- We generally use this loop when we don't know the number of times to iterate beforehand."
   ]
  },
  {
   "cell_type": "markdown",
   "id": "c21bd090",
   "metadata": {},
   "source": [
    "### Syntax of while Loop in Python"
   ]
  },
  {
   "cell_type": "markdown",
   "id": "b46a7a68",
   "metadata": {},
   "source": [
    "while test_expression:\n",
    "\n",
    "    Body of while"
   ]
  },
  {
   "cell_type": "markdown",
   "id": "f24690df",
   "metadata": {},
   "source": [
    "- In the while loop, test expression is checked first. \n",
    "- The body of the loop is entered only if the test_expression evaluates to True. \n",
    "- After one iteration, the test expression is checked again. This process continues until the test_expression evaluates to False.\n",
    "\n",
    "Example:"
   ]
  },
  {
   "cell_type": "code",
   "execution_count": 1,
   "id": "633674dc",
   "metadata": {},
   "outputs": [
    {
     "name": "stdout",
     "output_type": "stream",
     "text": [
      "Number :1\n",
      "1 is smaller than 5\n",
      "2 is smaller than 5\n",
      "3 is smaller than 5\n",
      "4 is smaller than 5\n"
     ]
    }
   ],
   "source": [
    "number = int(input('Number :'))\n",
    "while number < 5:\n",
    "    print('{} is smaller than 5'.format(number))\n",
    "    number = number + 1"
   ]
  },
  {
   "cell_type": "markdown",
   "id": "0fd04689",
   "metadata": {},
   "source": [
    "With the continue statement we can stop the current iteration, and continue with the next\n",
    "\n",
    "Example:"
   ]
  },
  {
   "cell_type": "code",
   "execution_count": 4,
   "id": "8b4cb8fb",
   "metadata": {},
   "outputs": [
    {
     "name": "stdout",
     "output_type": "stream",
     "text": [
      "1\n",
      "2\n",
      "4\n",
      "5\n",
      "6\n"
     ]
    }
   ],
   "source": [
    "i = 0\n",
    "while i < 6:\n",
    "  i += 1\n",
    "  if i == 3:\n",
    "    continue\n",
    "  print(i)"
   ]
  },
  {
   "cell_type": "markdown",
   "id": "06ddea67",
   "metadata": {},
   "source": [
    "With the break statement we can stop the loop even if the while condition is true\n",
    "\n",
    "Example:"
   ]
  },
  {
   "cell_type": "code",
   "execution_count": 5,
   "id": "dc6c83fa",
   "metadata": {},
   "outputs": [
    {
     "name": "stdout",
     "output_type": "stream",
     "text": [
      "1\n",
      "2\n",
      "3\n"
     ]
    }
   ],
   "source": [
    "i = 1\n",
    "while i < 6:\n",
    "  print(i)\n",
    "  if i == 3:\n",
    "    break\n",
    "  i += 1"
   ]
  },
  {
   "cell_type": "markdown",
   "id": "d74112f4",
   "metadata": {},
   "source": [
    "### While loop with else\n",
    "\n",
    "- Same as with for loops, while loops can also have an optional else block.\n",
    "\n",
    "- The else part is executed if the condition in the while loop evaluates to False.\n",
    "\n",
    "Example:"
   ]
  },
  {
   "cell_type": "code",
   "execution_count": 9,
   "id": "50fb17c7",
   "metadata": {},
   "outputs": [
    {
     "name": "stdout",
     "output_type": "stream",
     "text": [
      "Number :2\n",
      "4\n"
     ]
    }
   ],
   "source": [
    "number = int(input('Number :'))\n",
    "\n",
    "# if the number is 6 the loop will stop\n",
    "while (number < 10):\n",
    "    number = number + 2\n",
    "    if number == 6 :\n",
    "        break\n",
    "    print(number)\n",
    "else:\n",
    "    print('loop complete')"
   ]
  },
  {
   "cell_type": "code",
   "execution_count": 13,
   "id": "593cf936",
   "metadata": {},
   "outputs": [
    {
     "name": "stdout",
     "output_type": "stream",
     "text": [
      "Number :2\n",
      "4\n",
      "6\n",
      "8\n",
      "10\n",
      "12\n",
      "14\n",
      "16\n",
      "18\n",
      "20\n"
     ]
    }
   ],
   "source": [
    "number = int(input('Number :'))\n",
    "\n",
    "# if the number bigger than 20 the loop will stop\n",
    "while True:\n",
    "    number = number + 2\n",
    "    print(number)\n",
    "    if number >= 20 :\n",
    "        break\n",
    "else:\n",
    "    print('loop complete')\n",
    "    "
   ]
  },
  {
   "cell_type": "code",
   "execution_count": 14,
   "id": "e9efeabc",
   "metadata": {},
   "outputs": [
    {
     "name": "stdout",
     "output_type": "stream",
     "text": [
      "Number :1\n",
      "2\n",
      "3\n",
      "4\n",
      "5\n"
     ]
    }
   ],
   "source": [
    "number = int(input('Number :'))\n",
    "\n",
    "# if the number is not equal with 5 the loop will continue\n",
    "while number < 10:\n",
    "    number = number + 1\n",
    "    print(number)\n",
    "    if number != 5:\n",
    "        continue\n",
    "    else:break\n"
   ]
  },
  {
   "cell_type": "code",
   "execution_count": null,
   "id": "e353e525",
   "metadata": {},
   "outputs": [],
   "source": []
  }
 ],
 "metadata": {
  "kernelspec": {
   "display_name": "Python 3",
   "language": "python",
   "name": "python3"
  },
  "language_info": {
   "codemirror_mode": {
    "name": "ipython",
    "version": 3
   },
   "file_extension": ".py",
   "mimetype": "text/x-python",
   "name": "python",
   "nbconvert_exporter": "python",
   "pygments_lexer": "ipython3",
   "version": "3.6.13"
  }
 },
 "nbformat": 4,
 "nbformat_minor": 5
}
