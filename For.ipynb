{
 "cells": [
  {
   "cell_type": "markdown",
   "id": "2e7ce392",
   "metadata": {},
   "source": [
    "# For\n",
    "- The for loop in Python is used to iterate over a sequence (list, tuple, string) or other iterable objects. Iterating over a sequence is called traversal.\n",
    "- Here, val is the variable that takes the value of the item inside the sequence on each iteration.\n",
    "\n",
    "- Loop continues until we reach the last item in the sequence. The body of for loop is separated from the rest of the code using indentation."
   ]
  },
  {
   "cell_type": "markdown",
   "id": "b3bcff5e",
   "metadata": {},
   "source": [
    "### Syntax of for Loop"
   ]
  },
  {
   "cell_type": "markdown",
   "id": "3e8b1d70",
   "metadata": {},
   "source": [
    "for val in sequence:\n",
    "\n",
    "    loop body"
   ]
  },
  {
   "cell_type": "markdown",
   "id": "0f4d099c",
   "metadata": {},
   "source": [
    "- Here, val is the variable that takes the value of the item inside the sequence on each iteration.\n",
    "\n",
    "- Loop continues until we reach the last item in the sequence. The body of for loop is separated from the rest of the code using indentation."
   ]
  },
  {
   "cell_type": "code",
   "execution_count": 2,
   "id": "95644e82",
   "metadata": {},
   "outputs": [
    {
     "name": "stdout",
     "output_type": "stream",
     "text": [
      "huruf d\n",
      "huruf a\n",
      "huruf t\n",
      "huruf a\n"
     ]
    }
   ],
   "source": [
    "# example for loop in string\n",
    "for i in 'data':\n",
    "    print('huruf {}'.format(i))"
   ]
  },
  {
   "cell_type": "code",
   "execution_count": 3,
   "id": "8dd4b566",
   "metadata": {},
   "outputs": [
    {
     "name": "stdout",
     "output_type": "stream",
     "text": [
      "warna merah\n",
      "warna kuning\n",
      "warna hijau\n"
     ]
    }
   ],
   "source": [
    "# example for loop in list\n",
    "color = ['merah', 'kuning', 'hijau']\n",
    "for i in color:\n",
    "    print('warna {}'.format(i))"
   ]
  },
  {
   "cell_type": "code",
   "execution_count": 4,
   "id": "c3227bba",
   "metadata": {},
   "outputs": [
    {
     "name": "stdout",
     "output_type": "stream",
     "text": [
      "0\n",
      "1\n",
      "2\n"
     ]
    }
   ],
   "source": [
    "# example for loop in range statement\n",
    "for i in range(3):\n",
    "    print(i)"
   ]
  },
  {
   "cell_type": "code",
   "execution_count": 5,
   "id": "09812835",
   "metadata": {},
   "outputs": [
    {
     "name": "stdout",
     "output_type": "stream",
     "text": [
      "1\n",
      "2\n",
      "3\n"
     ]
    }
   ],
   "source": [
    "for i in range(1,4):\n",
    "    print(i)"
   ]
  },
  {
   "cell_type": "markdown",
   "id": "c5637076",
   "metadata": {},
   "source": [
    "## Python Nested for Loop"
   ]
  },
  {
   "cell_type": "markdown",
   "id": "37a05cd7",
   "metadata": {},
   "source": [
    "A nested loop is a loop inside the body of the outer loop. The inner or outer loop can be any type, such as a while loop or for loop. For example, the outer for loop can contain a while loop and vice versa.\n",
    "\n",
    "The outer loop can contain more than one inner loop. There is no limitation on the chaining of loops.\n",
    "\n",
    "In the nested loop, the number of iterations will be equal to the number of iterations in the outer loop multiplied by the iterations in the inner loop."
   ]
  },
  {
   "cell_type": "code",
   "execution_count": 11,
   "id": "a36f02ee",
   "metadata": {},
   "outputs": [
    {
     "name": "stdout",
     "output_type": "stream",
     "text": [
      "* * * \n",
      "* * \n",
      "* \n"
     ]
    }
   ],
   "source": [
    "for row in range(3):\n",
    "    for col in range(3):\n",
    "        if row == 0 and col <= 2 : print(\"*\", end = \" \")\n",
    "        elif row == 1 and col <= 1 : print(\"*\", end = \" \")\n",
    "        elif row == 2 and col == 0 : print(\"*\", end = \" \")\n",
    "    print()"
   ]
  },
  {
   "cell_type": "code",
   "execution_count": 12,
   "id": "f36d3694",
   "metadata": {},
   "outputs": [
    {
     "name": "stdout",
     "output_type": "stream",
     "text": [
      "* * * * \n",
      "* * * \n",
      "* * \n",
      "* \n"
     ]
    }
   ],
   "source": [
    "for row in range(4):\n",
    "    for col in range(4):\n",
    "        if row == 0 and col <= 3 : print(\"*\", end = \" \")\n",
    "        elif row == 1 and col <= 2 : print(\"*\", end = \" \")\n",
    "        elif row == 2 and col <= 1 : print(\"*\", end = \" \")\n",
    "        elif row == 3 and col == 0 : print(\"*\", end = \" \")\n",
    "    print()"
   ]
  },
  {
   "cell_type": "markdown",
   "id": "ead643ad",
   "metadata": {},
   "source": [
    "## If Else Elif in For Statement"
   ]
  },
  {
   "cell_type": "code",
   "execution_count": 13,
   "id": "aa47285a",
   "metadata": {},
   "outputs": [
    {
     "name": "stdout",
     "output_type": "stream",
     "text": [
      "10 is even \n",
      "11 is not even\n",
      "12 is even \n",
      "13 is not even\n",
      "14 is even \n",
      "15 is not even\n",
      "16 is even \n",
      "17 is not even\n",
      "18 is even \n",
      "19 is not even\n"
     ]
    }
   ],
   "source": [
    "for i in range (10,20):\n",
    "    if i % 2 == 0:\n",
    "        print(\"{} is even \".format(i))\n",
    "    else:\n",
    "        print(\"{} is not even\".format(i))"
   ]
  },
  {
   "cell_type": "code",
   "execution_count": 15,
   "id": "35524ba1",
   "metadata": {},
   "outputs": [
    {
     "name": "stdout",
     "output_type": "stream",
     "text": [
      "Not our favorite\n",
      "Not our favorite\n",
      "Not our favorite\n",
      "Family Guy is my favorite\n",
      "Not our favorite\n",
      "Not our favorite\n",
      "Not our favorite\n",
      "Game of Thrones is my brother favorite\n",
      "Not our favorite\n"
     ]
    }
   ],
   "source": [
    "my_movies = [['How I Met Your Mother', 'Friends', 'Silicon Valley'],\n",
    "    ['Family Guy', 'South Park', 'Rick and Morty'],\n",
    "    ['Breaking Bad', 'Game of Thrones', 'The Wire']]\n",
    "\n",
    "for sublist in my_movies:\n",
    "    for movie_name in sublist:\n",
    "        if movie_name == 'Family Guy':\n",
    "            print('{} is my favorite'.format(movie_name))\n",
    "            continue\n",
    "        elif movie_name == 'Game of Thrones':\n",
    "            print('{} is my brother favorite'.format(movie_name))\n",
    "            continue\n",
    "        else : print('Not our favorite')\n"
   ]
  },
  {
   "cell_type": "code",
   "execution_count": null,
   "id": "db4ed9aa",
   "metadata": {},
   "outputs": [],
   "source": []
  }
 ],
 "metadata": {
  "kernelspec": {
   "display_name": "Python 3",
   "language": "python",
   "name": "python3"
  },
  "language_info": {
   "codemirror_mode": {
    "name": "ipython",
    "version": 3
   },
   "file_extension": ".py",
   "mimetype": "text/x-python",
   "name": "python",
   "nbconvert_exporter": "python",
   "pygments_lexer": "ipython3",
   "version": "3.6.13"
  }
 },
 "nbformat": 4,
 "nbformat_minor": 5
}
