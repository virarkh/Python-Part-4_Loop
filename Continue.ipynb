{
 "cells": [
  {
   "cell_type": "markdown",
   "id": "e5e75c6f",
   "metadata": {},
   "source": [
    "# Continue \n",
    "- The continue statement is used to skip the rest of the code inside a loop for the current iteration only. Loop does not terminate but continues on with the next iteration.\n",
    "\n",
    "Example:"
   ]
  },
  {
   "cell_type": "code",
   "execution_count": 1,
   "id": "21cec52b",
   "metadata": {},
   "outputs": [
    {
     "name": "stdout",
     "output_type": "stream",
     "text": [
      "D\n",
      "t\n",
      " \n",
      "n\n",
      "l\n",
      "y\n",
      "s\n",
      "i\n",
      "s\n"
     ]
    }
   ],
   "source": [
    "for i in \"Data analysis\":\n",
    "    if i == 'a': continue\n",
    "    print(i)"
   ]
  },
  {
   "cell_type": "code",
   "execution_count": 3,
   "id": "e2081a4f",
   "metadata": {},
   "outputs": [
    {
     "name": "stdout",
     "output_type": "stream",
     "text": [
      "1\n",
      "2\n",
      "three is string\n",
      "4\n",
      "five is string\n",
      "6\n"
     ]
    }
   ],
   "source": [
    "for i in [1,2,'three',4,'five',6]:\n",
    "    if type(i) == str : \n",
    "        print('{} is string'.format(i))\n",
    "        continue\n",
    "    print(i)"
   ]
  },
  {
   "cell_type": "code",
   "execution_count": 4,
   "id": "e0c0bdec",
   "metadata": {},
   "outputs": [
    {
     "name": "stdout",
     "output_type": "stream",
     "text": [
      "1\n",
      "2 is even\n",
      "3\n",
      "4 is even\n",
      "5\n",
      "6 is even\n",
      "7\n",
      "8 is even\n",
      "9\n"
     ]
    }
   ],
   "source": [
    "for i in range(1,10):\n",
    "    if i % 2 == 0 : \n",
    "        print(\"{} is even\".format(i))\n",
    "        continue\n",
    "    print(i)"
   ]
  },
  {
   "cell_type": "code",
   "execution_count": null,
   "id": "3f510127",
   "metadata": {},
   "outputs": [],
   "source": []
  }
 ],
 "metadata": {
  "kernelspec": {
   "display_name": "Python 3",
   "language": "python",
   "name": "python3"
  },
  "language_info": {
   "codemirror_mode": {
    "name": "ipython",
    "version": 3
   },
   "file_extension": ".py",
   "mimetype": "text/x-python",
   "name": "python",
   "nbconvert_exporter": "python",
   "pygments_lexer": "ipython3",
   "version": "3.6.13"
  }
 },
 "nbformat": 4,
 "nbformat_minor": 5
}
