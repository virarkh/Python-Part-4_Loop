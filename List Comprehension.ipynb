{
 "cells": [
  {
   "cell_type": "markdown",
   "id": "4a3a08ad",
   "metadata": {},
   "source": [
    "## List Comprehension\n",
    "List comprehension offers a shorter syntax when you want to create a new list based on the values of an existing list."
   ]
  },
  {
   "cell_type": "markdown",
   "id": "a4a26070",
   "metadata": {},
   "source": [
    "### Syntax of List Comprehension"
   ]
  },
  {
   "cell_type": "markdown",
   "id": "244b0470",
   "metadata": {},
   "source": [
    "[expression for item in list]"
   ]
  },
  {
   "cell_type": "markdown",
   "id": "c664b1b8",
   "metadata": {},
   "source": [
    "Example:"
   ]
  },
  {
   "cell_type": "code",
   "execution_count": 6,
   "id": "a0264d33",
   "metadata": {},
   "outputs": [],
   "source": [
    "number = [1,2,3,4,5]"
   ]
  },
  {
   "cell_type": "code",
   "execution_count": 7,
   "id": "2f4ddd4c",
   "metadata": {},
   "outputs": [],
   "source": [
    "kubik = []"
   ]
  },
  {
   "cell_type": "code",
   "execution_count": 8,
   "id": "ae7df368",
   "metadata": {},
   "outputs": [
    {
     "name": "stdout",
     "output_type": "stream",
     "text": [
      "[1, 8, 27, 64, 125]\n"
     ]
    }
   ],
   "source": [
    "# using for to append the output to the list\n",
    "for i in number:\n",
    "    kubik.append(i**3)\n",
    "print(kubik)"
   ]
  },
  {
   "cell_type": "code",
   "execution_count": 9,
   "id": "1d5473be",
   "metadata": {},
   "outputs": [],
   "source": [
    "number = [1,2,3,4,5]"
   ]
  },
  {
   "cell_type": "code",
   "execution_count": 10,
   "id": "7a674af0",
   "metadata": {},
   "outputs": [],
   "source": [
    "# using list comprehension to append the output to the list\n",
    "kubik = [i**3 for i in number]"
   ]
  },
  {
   "cell_type": "code",
   "execution_count": 11,
   "id": "b6cae11f",
   "metadata": {},
   "outputs": [
    {
     "name": "stdout",
     "output_type": "stream",
     "text": [
      "[1, 8, 27, 64, 125]\n"
     ]
    }
   ],
   "source": [
    "print(kubik)"
   ]
  },
  {
   "cell_type": "code",
   "execution_count": 12,
   "id": "294deaa5",
   "metadata": {},
   "outputs": [
    {
     "name": "stdout",
     "output_type": "stream",
     "text": [
      "[3, 4, 5, 6, 7]\n"
     ]
    }
   ],
   "source": [
    "addition = []\n",
    "for i in number:\n",
    "    addition.append(i+2)\n",
    "print(addition)"
   ]
  },
  {
   "cell_type": "code",
   "execution_count": 13,
   "id": "410ae2a0",
   "metadata": {},
   "outputs": [
    {
     "name": "stdout",
     "output_type": "stream",
     "text": [
      "[3, 4, 5, 6, 7]\n"
     ]
    }
   ],
   "source": [
    "addition = [i+2 for i in number]\n",
    "print(addition)"
   ]
  },
  {
   "cell_type": "code",
   "execution_count": 14,
   "id": "4ab2d9b7",
   "metadata": {},
   "outputs": [
    {
     "name": "stdout",
     "output_type": "stream",
     "text": [
      "['c']\n"
     ]
    }
   ],
   "source": [
    "abc = ['a','b','c']\n",
    "cde = ['c','d','e']\n",
    "duplicate = []\n",
    "\n",
    "for i in abc:\n",
    "    for j in cde:\n",
    "        if i == j:\n",
    "            duplicate.append(i)\n",
    "print(duplicate)"
   ]
  },
  {
   "cell_type": "code",
   "execution_count": 15,
   "id": "63feff52",
   "metadata": {},
   "outputs": [
    {
     "name": "stdout",
     "output_type": "stream",
     "text": [
      "['c']\n"
     ]
    }
   ],
   "source": [
    "duplicate = [i for i in abc for j in cde if i == j]\n",
    "print(duplicate)"
   ]
  },
  {
   "cell_type": "code",
   "execution_count": 16,
   "id": "5cf4d7e7",
   "metadata": {},
   "outputs": [],
   "source": [
    "fruit1 = ['apple','banana','kiwi']\n",
    "fruit2 = ['cherry','strawberry','kiwi']\n",
    "duplicate = []"
   ]
  },
  {
   "cell_type": "code",
   "execution_count": 17,
   "id": "1a41d9c0",
   "metadata": {},
   "outputs": [
    {
     "name": "stdout",
     "output_type": "stream",
     "text": [
      "['kiwi']\n"
     ]
    }
   ],
   "source": [
    "for i in fruit1:\n",
    "    for j in fruit2:\n",
    "        if i == j:\n",
    "            duplicate.append(i)\n",
    "print(duplicate)"
   ]
  },
  {
   "cell_type": "code",
   "execution_count": 18,
   "id": "3eb3feb7",
   "metadata": {},
   "outputs": [
    {
     "name": "stdout",
     "output_type": "stream",
     "text": [
      "['kiwi']\n"
     ]
    }
   ],
   "source": [
    "duplicate = [i for i in fruit1 for j in fruit2 if i == j]\n",
    "print(duplicate)"
   ]
  },
  {
   "cell_type": "code",
   "execution_count": 19,
   "id": "6f12c038",
   "metadata": {},
   "outputs": [
    {
     "name": "stdout",
     "output_type": "stream",
     "text": [
      "['DATA', 'SCIENCE']\n"
     ]
    }
   ],
   "source": [
    "# using underscore as a variable to prove that underscore is a valid variable\n",
    "data = ['data','science']\n",
    "upper = [_.upper() for _ in data]\n",
    "print(upper)"
   ]
  },
  {
   "cell_type": "code",
   "execution_count": 21,
   "id": "67e2b27d",
   "metadata": {},
   "outputs": [
    {
     "name": "stdout",
     "output_type": "stream",
     "text": [
      "[[1, 1], [9, 27], [25, 125], [49, 343]]\n"
     ]
    }
   ],
   "source": [
    "number = range(1,8,2)\n",
    "kuadrat_kubik = [[_**2,_**3] for _ in number]\n",
    "print(kuadrat_kubik)"
   ]
  },
  {
   "cell_type": "code",
   "execution_count": null,
   "id": "122e8c7d",
   "metadata": {},
   "outputs": [],
   "source": []
  }
 ],
 "metadata": {
  "kernelspec": {
   "display_name": "Python 3",
   "language": "python",
   "name": "python3"
  },
  "language_info": {
   "codemirror_mode": {
    "name": "ipython",
    "version": 3
   },
   "file_extension": ".py",
   "mimetype": "text/x-python",
   "name": "python",
   "nbconvert_exporter": "python",
   "pygments_lexer": "ipython3",
   "version": "3.6.13"
  }
 },
 "nbformat": 4,
 "nbformat_minor": 5
}
